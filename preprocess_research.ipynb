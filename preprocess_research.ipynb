{
 "cells": [
  {
   "cell_type": "code",
   "execution_count": null,
   "metadata": {},
   "outputs": [],
   "source": [
    "import cv2\n",
    "import torch\n",
    "import numpy as np\n",
    "import csv\n",
    "import random\n",
    "from os import listdir, makedirs\n",
    "from os.path import isfile, join\n",
    "import albumentations as A\n",
    "import hickle\n",
    "from IPython.display import clear_output\n",
    "import time\n",
    "from shutil import rmtree\n",
    "from multiprocessing import Process"
   ]
  },
  {
   "attachments": {},
   "cell_type": "markdown",
   "metadata": {},
   "source": [
    "<h2>Global Variables</h2>"
   ]
  },
  {
   "cell_type": "code",
   "execution_count": null,
   "metadata": {},
   "outputs": [],
   "source": [
    "src_dir = \"/home/tyler/Documents/Data/PinData/videos/\"\n",
    "dest_dir = \"/home/tyler/Documents/Data/PinData/PinVideosRotated/\"\n",
    "dest_dir_train = f\"{dest_dir}train/\"\n",
    "dest_dir_val = f\"{dest_dir}val/\""
   ]
  },
  {
   "cell_type": "code",
   "execution_count": null,
   "metadata": {},
   "outputs": [],
   "source": [
    "IMAGE_WIDTH = 192\n",
    "IMAGE_HEIGHT = 256\n",
    "\n",
    "FRAME_CAP = 40\n",
    "FPS = 100"
   ]
  },
  {
   "cell_type": "code",
   "execution_count": null,
   "metadata": {},
   "outputs": [],
   "source": [
    "# rmtree(dest_dir, ignore_errors=True)"
   ]
  },
  {
   "cell_type": "code",
   "execution_count": null,
   "metadata": {},
   "outputs": [],
   "source": [
    "makedirs(dest_dir, exist_ok=True)\n",
    "makedirs(dest_dir_train, exist_ok=True)\n",
    "makedirs(dest_dir_val, exist_ok=True)"
   ]
  },
  {
   "cell_type": "code",
   "execution_count": null,
   "metadata": {},
   "outputs": [],
   "source": [
    "transform = A.Compose([\n",
    "    A.LongestMaxSize(IMAGE_HEIGHT, always_apply=True),\n",
    "    # A.GaussianBlur(),\n",
    "    # A.ColorJitter(),\n",
    "    # A.GaussNoise(),\n",
    "    A.Normalize(always_apply=True),\n",
    "    A.ToFloat(always_apply=True)\n",
    "])"
   ]
  },
  {
   "cell_type": "code",
   "execution_count": null,
   "metadata": {},
   "outputs": [],
   "source": [
    "transform_preview = A.Compose([\n",
    "    A.LongestMaxSize(IMAGE_HEIGHT, always_apply=True),\n",
    "    # A.GaussianBlur(),\n",
    "    # A.ColorJitter(),\n",
    "    # A.GaussNoise(),\n",
    "])"
   ]
  },
  {
   "attachments": {},
   "cell_type": "markdown",
   "metadata": {},
   "source": [
    "<h2>Aux Functions</h2>"
   ]
  },
  {
   "cell_type": "code",
   "execution_count": null,
   "metadata": {},
   "outputs": [],
   "source": [
    "def pad_frames(frames):\n",
    "    target = np.zeros((FRAME_CAP, 3, IMAGE_WIDTH, IMAGE_HEIGHT))\n",
    "\n",
    "    stopping_point = frames.shape[0]\n",
    "\n",
    "    target[:stopping_point, :, :, :] = frames\n",
    "\n",
    "    return target"
   ]
  },
  {
   "cell_type": "code",
   "execution_count": null,
   "metadata": {},
   "outputs": [],
   "source": [
    "def truncate_frames(frames):\n",
    "    return frames[:FRAME_CAP, :, :, :]"
   ]
  },
  {
   "cell_type": "code",
   "execution_count": null,
   "metadata": {},
   "outputs": [],
   "source": [
    "def h_flip_img(img):\n",
    "    global h_flip\n",
    "\n",
    "    if h_flip >= 0.5:\n",
    "        cv2.flip(img, 0, img)"
   ]
  },
  {
   "cell_type": "code",
   "execution_count": null,
   "metadata": {},
   "outputs": [],
   "source": [
    "def v_flip_img(img):\n",
    "    global v_flip\n",
    "\n",
    "    if v_flip >= 0.5:\n",
    "        cv2.flip(img, 1, img)"
   ]
  },
  {
   "cell_type": "code",
   "execution_count": null,
   "metadata": {},
   "outputs": [],
   "source": [
    "def preprocess_image(image):\n",
    "    global degree\n",
    "\n",
    "    h_flip_img(image)\n",
    "    v_flip_img(image)\n",
    "\n",
    "    image = A.rotate(image, degree)\n",
    "    \n",
    "    image = transform(image=image)[\"image\"]\n",
    "\n",
    "    image = np.transpose(image, [2,0,1])\n",
    "\n",
    "    image = np.expand_dims(image, 0)\n",
    "\n",
    "    return image"
   ]
  },
  {
   "cell_type": "code",
   "execution_count": null,
   "metadata": {},
   "outputs": [],
   "source": [
    "def preprocess_image_preview_version(image):\n",
    "    global degree\n",
    "\n",
    "    h_flip_img(image)\n",
    "    v_flip_img(image)\n",
    "\n",
    "    image = A.rotate(image, degree)\n",
    "    \n",
    "    image = transform_preview(image=image)[\"image\"]\n",
    "\n",
    "    image = np.expand_dims(image, 0)\n",
    "    \n",
    "    return image"
   ]
  },
  {
   "cell_type": "code",
   "execution_count": null,
   "metadata": {},
   "outputs": [],
   "source": [
    "def save_as_video(frames):\n",
    "    fourcc = cv2.VideoWriter_fourcc(*'XVID')\n",
    "    out = cv2.VideoWriter('./tests/output.avi',fourcc, 10.0, (IMAGE_HEIGHT, IMAGE_WIDTH))\n",
    "    \n",
    "    for frame in frames:\n",
    "        out.write(np.array(frame, dtype=np.uint8))\n",
    "    out.release()"
   ]
  },
  {
   "cell_type": "code",
   "execution_count": null,
   "metadata": {},
   "outputs": [],
   "source": [
    "def preview_frames(fps: int, src: str):\n",
    "    global h_flip\n",
    "    global v_flip\n",
    "    global degree\n",
    "\n",
    "    frames = torch.zeros((0,IMAGE_WIDTH,IMAGE_HEIGHT,3))\n",
    "    count = 0\n",
    "\n",
    "    vidcap = cv2.VideoCapture(src)\n",
    "\n",
    "    success,image = vidcap.read()\n",
    "\n",
    "    degree = random.randrange(-360,360)\n",
    "    h_flip = random.random()\n",
    "    v_flip = random.random()\n",
    "    image = preprocess_image_preview_version(image)\n",
    "\n",
    "    frames = np.vstack([frames, image])\n",
    "    input_mask = np.zeros((FRAME_CAP), dtype=np.int8)\n",
    "\n",
    "    makedirs(\"./tests\", exist_ok=True)\n",
    "\n",
    "    while success:\n",
    "        vidcap.set(cv2.CAP_PROP_POS_MSEC,(count*fps))\n",
    "\n",
    "        success,image = vidcap.read()\n",
    "\n",
    "        if not success:\n",
    "            break\n",
    "\n",
    "        image = preprocess_image_preview_version(image)\n",
    "        cv2.imwrite(f\"./tests/{count}.jpg\", image.squeeze())\n",
    "\n",
    "        frames = np.vstack([frames, image])\n",
    "        input_mask[count] = 1\n",
    "        count += 1\n",
    "\n",
    "    save_as_video(frames)\n",
    "\n",
    "    print(frames)\n",
    "    print(f\"Frames Shape: {frames.shape}\")\n",
    "    print(input_mask)\n",
    "    print(f\"Input Masks Shape: {input_mask.shape}\")"
   ]
  },
  {
   "cell_type": "code",
   "execution_count": null,
   "metadata": {},
   "outputs": [],
   "source": [
    "def get_frames(fps: int, src: str, i: int):\n",
    "\n",
    "    global h_flip\n",
    "    global v_flip\n",
    "    global degree\n",
    "\n",
    "    frames = torch.zeros((0,3,IMAGE_WIDTH,IMAGE_HEIGHT))\n",
    "    count = 0\n",
    "    vidcap = cv2.VideoCapture(src)\n",
    "    frame_count = int(vidcap.get(cv2.CAP_PROP_FRAME_COUNT))\n",
    "\n",
    "    if frame_count == 0:\n",
    "        return None, None\n",
    "\n",
    "    success,image = vidcap.read()\n",
    "\n",
    "    degree = random.randrange(-360,360)\n",
    "    h_flip = random.random()\n",
    "    v_flip = random.random()\n",
    "    image = preprocess_image(image)\n",
    "\n",
    "    frames = np.vstack([frames, image])\n",
    "    input_mask = np.zeros((FRAME_CAP), dtype=np.int8)\n",
    "\n",
    "    while success:\n",
    "        vidcap.set(cv2.CAP_PROP_POS_MSEC,(count*fps))\n",
    "        success,image = vidcap.read()\n",
    "\n",
    "        if not success:\n",
    "            break\n",
    "\n",
    "        image = preprocess_image(image)\n",
    "        frames = np.vstack([frames, image])\n",
    "        input_mask[count] = 1\n",
    "\n",
    "        count += 1\n",
    "        \n",
    "    if frames.shape[0] > FRAME_CAP:\n",
    "        raise Exception\n",
    "    \n",
    "    elif frames.shape[0] < FRAME_CAP:\n",
    "        frames = pad_frames(frames)\n",
    "\n",
    "    return frames, input_mask"
   ]
  },
  {
   "cell_type": "code",
   "execution_count": null,
   "metadata": {},
   "outputs": [],
   "source": [
    "def create_record(files):\n",
    "    files = [str(x) for x in files]\n",
    "    return \",\".join(files)"
   ]
  },
  {
   "cell_type": "code",
   "execution_count": null,
   "metadata": {},
   "outputs": [],
   "source": [
    "def write_csv(records, save_dir):\n",
    "    with open(save_dir, 'w', newline=\"\\n\") as myfile:\n",
    "        wr = csv.writer(myfile, delimiter='\\n', quotechar=\"\", quoting=csv.QUOTE_NONE)\n",
    "        wr.writerow(records)\n",
    "        myfile.close()"
   ]
  },
  {
   "cell_type": "code",
   "execution_count": null,
   "metadata": {},
   "outputs": [],
   "source": [
    "def preprocess_batch(start_file_idx: int, end_file_idx: int):\n",
    "\n",
    "    train_records = []\n",
    "    val_records = []\n",
    "\n",
    "    train_records.append(\"file_name,og_file,pin\")\n",
    "    val_records.append(\"file_name,og_file,pin\")\n",
    "\n",
    "    file_names = [f for f in listdir(src_dir) if isfile(join(src_dir, f))]\n",
    "\n",
    "    holdout_set = set()\n",
    "\n",
    "    ran_once = False\n",
    "\n",
    "    while True:\n",
    "        \n",
    "        for i, file_name in enumerate(file_names):\n",
    "            \n",
    "            pin = file_name.split(\"_\")[0]\n",
    "\n",
    "            file_name = join(src_dir, file_name)\n",
    "            \n",
    "            frames, input_mask = get_frames(FPS, f\"{file_name}\", i)\n",
    "\n",
    "            if frames is None:\n",
    "                continue\n",
    "\n",
    "            if not ran_once:\n",
    "                is_in_holdout = random.random()\n",
    "\n",
    "                if is_in_holdout <= 0.2:\n",
    "                    holdout_set.add(i)\n",
    "\n",
    "            if i in holdout_set:\n",
    "                dump_dir = dest_dir_val\n",
    "                records = val_records\n",
    "            else:\n",
    "                dump_dir = dest_dir_train\n",
    "                records = train_records\n",
    "\n",
    "            record = create_record([f\"{dump_dir}{start_file_idx}\", file_name, pin])\n",
    "            records.append(record)\n",
    "\n",
    "            frames = frames.transpose([1,0,2,3])\n",
    "            frames = np.float32(frames)\n",
    "\n",
    "            data = {\"image\": frames, \"mask\": input_mask}\n",
    "            hickle.dump(data, f\"{dump_dir}{start_file_idx}\", compression='gzip')\n",
    "\n",
    "            print(f\"File {start_file_idx} saved at: {dump_dir}{start_file_idx}\")\n",
    "\n",
    "            start_file_idx += 1\n",
    "\n",
    "            if start_file_idx % 10 == 0:\n",
    "                clear_output(True)\n",
    "            \n",
    "            if start_file_idx == end_file_idx:\n",
    "                break\n",
    "        \n",
    "        if start_file_idx == end_file_idx:\n",
    "            break\n",
    "\n",
    "        ran_once = True\n",
    "\n",
    "    write_csv(train_records, f\"{dest_dir}train.csv\")\n",
    "    write_csv(val_records, f\"{dest_dir}val.csv\")\n",
    "\n",
    "    print()"
   ]
  },
  {
   "cell_type": "code",
   "execution_count": null,
   "metadata": {},
   "outputs": [],
   "source": [
    "def save_video_frames(dir, file_idx):\n",
    "    frames, input_mask = get_frames(FPS, f\"{dir}\")\n",
    "\n",
    "    frames = frames.transpose([1,0,2,3])\n",
    "    frames = np.float32(frames)\n",
    "\n",
    "    data = {\"image\": frames, \"mask\": input_mask}\n",
    "    hickle.dump(data, f\"{file_idx}\", compression='gzip')"
   ]
  },
  {
   "attachments": {},
   "cell_type": "markdown",
   "metadata": {},
   "source": [
    "<h2>Runtime</h2>"
   ]
  },
  {
   "cell_type": "code",
   "execution_count": null,
   "metadata": {},
   "outputs": [],
   "source": [
    "preview_frames(FPS, \"/home/tyler/Downloads/NumaGuard-main/data/videos/4021_20240402_160547_748042.mp4\")"
   ]
  },
  {
   "cell_type": "code",
   "execution_count": null,
   "metadata": {},
   "outputs": [],
   "source": [
    "p1 = Process(target=preprocess_batch, args=(0, 5))\n",
    "p1.start()"
   ]
  },
  {
   "cell_type": "code",
   "execution_count": null,
   "metadata": {},
   "outputs": [],
   "source": [
    "p2 = Process(target=preprocess_batch, args=(5, 10))\n",
    "p2.start()"
   ]
  }
 ],
 "metadata": {
  "kernelspec": {
   "display_name": "pytorch",
   "language": "python",
   "name": "python3"
  },
  "language_info": {
   "codemirror_mode": {
    "name": "ipython",
    "version": 3
   },
   "file_extension": ".py",
   "mimetype": "text/x-python",
   "name": "python",
   "nbconvert_exporter": "python",
   "pygments_lexer": "ipython3",
   "version": "3.8.18"
  },
  "orig_nbformat": 4
 },
 "nbformat": 4,
 "nbformat_minor": 2
}
