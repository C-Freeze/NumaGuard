{
 "cells": [
  {
   "cell_type": "code",
   "execution_count": null,
   "metadata": {},
   "outputs": [],
   "source": [
    "import cv2\n",
    "import torch\n",
    "import numpy as np\n",
    "import torchvision.transforms.functional as tr\n",
    "import torchvision.transforms.v2.functional as trv2\n",
    "import pandas as pd\n",
    "import csv\n",
    "import random\n",
    "from os import listdir, makedirs\n",
    "from os.path import isfile, join"
   ]
  },
  {
   "cell_type": "code",
   "execution_count": null,
   "metadata": {},
   "outputs": [],
   "source": [
    "dest_dir = \"/home/tyler/Downloads/NumaGuard-main/data/videos_2/\"\n",
    "src_dir = \"/home/tyler/Downloads/NumaGuard-main/data/videos/\"\n",
    "csv_save_dir = f\"{dest_dir}data.csv\""
   ]
  },
  {
   "cell_type": "code",
   "execution_count": null,
   "metadata": {},
   "outputs": [],
   "source": [
    "IMAGE_WIDTH = 192\n",
    "IMAGE_HEIGHT = 256\n",
    "FRAME_CAP = 100\n",
    "FRAME_CAP = 30\n",
    "FPS = 200"
   ]
  },
  {
   "cell_type": "code",
   "execution_count": null,
   "metadata": {},
   "outputs": [],
   "source": [
    "def pad_frames(frames):\n",
    "    target = torch.zeros(FRAME_CAP, 3, IMAGE_WIDTH, IMAGE_HEIGHT)\n",
    "\n",
    "    stopping_point = frames.shape[0]\n",
    "\n",
    "    target[:stopping_point, :, :, :] = frames\n",
    "\n",
    "    return target"
   ]
  },
  {
   "cell_type": "code",
   "execution_count": null,
   "metadata": {},
   "outputs": [],
   "source": [
    "def truncate_frames(frames):\n",
    "    return frames[:FRAME_CAP, :, :, :]"
   ]
  },
  {
   "cell_type": "code",
   "execution_count": null,
   "metadata": {},
   "outputs": [],
   "source": [
    "def preprocess_image(image):\n",
    "    image = torch.tensor(image)\n",
    "\n",
    "    image = image.permute(2,0,1)\n",
    "\n",
    "    image = tr.resize(image, (IMAGE_WIDTH,IMAGE_HEIGHT), antialias=True) / 255\n",
    "\n",
    "    image = trv2.equalize(image)\n",
    "\n",
    "    image = image.unsqueeze(0)\n",
    "\n",
    "    return image"
   ]
  },
  {
   "cell_type": "code",
   "execution_count": null,
   "metadata": {},
   "outputs": [],
   "source": [
    "def preprocess_image_preview_version(image):\n",
    "    image = torch.tensor(image)\n",
    "\n",
    "    image = image.permute(2,0,1)\n",
    "\n",
    "    image = tr.resize(image, (IMAGE_WIDTH,IMAGE_HEIGHT), antialias=True)\n",
    "    \n",
    "    image = trv2.equalize(image)\n",
    "\n",
    "    image = image.permute(1,2,0)\n",
    "    \n",
    "    image = image.numpy()\n",
    "    \n",
    "    return image"
   ]
  },
  {
   "cell_type": "code",
   "execution_count": null,
   "metadata": {},
   "outputs": [],
   "source": [
    "def preview_frames(fps: int, src: str):\n",
    "\n",
    "    frames = torch.zeros((0,IMAGE_WIDTH,IMAGE_HEIGHT,3))\n",
    "    count = 0\n",
    "\n",
    "    vidcap = cv2.VideoCapture(src)\n",
    "\n",
    "    success,image = vidcap.read()\n",
    "\n",
    "    image = preprocess_image_preview_version(image)\n",
    "\n",
    "    frames = torch.cat([frames, torch.tensor(image).unsqueeze(0)])\n",
    "    input_masks = torch.zeros((FRAME_CAP), dtype=torch.int8)\n",
    "\n",
    "    makedirs(\"./tests\", exist_ok=True)\n",
    "\n",
    "    while success:\n",
    "        vidcap.set(cv2.CAP_PROP_POS_MSEC,(count*fps))\n",
    "\n",
    "        success,image = vidcap.read()\n",
    "\n",
    "        if not success:\n",
    "            break\n",
    "\n",
    "        image = preprocess_image_preview_version(image)\n",
    "\n",
    "        cv2.imwrite(f\"./tests/{count}.jpg\", image)\n",
    "\n",
    "        frames = torch.cat([frames, torch.tensor(image).unsqueeze(0)])\n",
    "        input_masks[count] = 1\n",
    "\n",
    "        count += 1\n",
    "\n",
    "    print(frames)\n",
    "\n",
    "    print(f\"Frames Shape: {frames.shape}\")\n",
    "\n",
    "    print(input_masks)\n",
    "    \n",
    "    print(f\"Input Masks Shape: {input_masks.shape}\")"
   ]
  },
  {
   "cell_type": "code",
   "execution_count": null,
   "metadata": {},
   "outputs": [],
   "source": [
    "def get_frames(fps: int, src: str):\n",
    "\n",
    "    frames = torch.zeros((0,3,IMAGE_WIDTH,IMAGE_HEIGHT))\n",
    "    count = 0\n",
    "\n",
    "    vidcap = cv2.VideoCapture(src)\n",
    "\n",
    "    success,image = vidcap.read()\n",
    "\n",
    "    image = preprocess_image(image)\n",
    "    frames = torch.cat([frames, image])\n",
    "\n",
    "    input_mask = torch.zeros((FRAME_CAP), dtype=torch.int8)\n",
    "\n",
    "    while success:\n",
    "        vidcap.set(cv2.CAP_PROP_POS_MSEC,(count*fps))\n",
    "\n",
    "        success,image = vidcap.read()\n",
    "\n",
    "        if not success:\n",
    "            break\n",
    "\n",
    "        image = preprocess_image(image)\n",
    "        frames = torch.cat([frames, image])\n",
    "        input_mask[count] = 1\n",
    "\n",
    "        count += 1\n",
    "        \n",
    "    if frames.shape[0] > FRAME_CAP:\n",
    "        # frames = truncate_frames(frames)\n",
    "        raise Exception\n",
    "    \n",
    "    elif frames.shape[0] < FRAME_CAP:\n",
    "        frames = pad_frames(frames)\n",
    "\n",
    "    return frames, input_mask"
   ]
  },
  {
   "cell_type": "code",
   "execution_count": null,
   "metadata": {},
   "outputs": [],
   "source": [
    "def create_record(files):\n",
    "    files = [str(x) for x in files]\n",
    "    return \",\".join(files)"
   ]
  },
  {
   "cell_type": "code",
   "execution_count": null,
   "metadata": {},
   "outputs": [],
   "source": [
    "def write_csv(records):\n",
    "    with open(csv_save_dir, 'w', newline=\"\\n\") as myfile:\n",
    "        wr = csv.writer(myfile, delimiter='\\n', quotechar=\"\", quoting=csv.QUOTE_NONE)\n",
    "        wr.writerow(records)\n",
    "        myfile.close()"
   ]
  },
  {
   "cell_type": "code",
   "execution_count": null,
   "metadata": {},
   "outputs": [],
   "source": [
    "def preprocess_batch():\n",
    "    records = []\n",
    "\n",
    "    records.append(\"file_name,pin\")\n",
    "    valid_records = 0\n",
    "    invalid_records = 0\n",
    "\n",
    "    onlyfiles = [f for f in listdir(src_dir) if isfile(join(src_dir, f))]\n",
    "\n",
    "    for i, file_name in enumerate(onlyfiles):\n",
    "        try:\n",
    "            print(f\"i: {i} file_name: {file_name}\", end=\"\\r\")\n",
    "            frames, input_mask = get_frames(FPS, f\"{src_dir}{file_name}\")\n",
    "\n",
    "            pin = file_name.split(\"_\")[0]\n",
    "    \n",
    "            record = create_record([i, pin])\n",
    "\n",
    "            records.append(record)\n",
    "\n",
    "            torch.save(frames, f\"{dest_dir}{i}\")\n",
    "            torch.save(input_mask, f\"{dest_dir}{i}_mask\")\n",
    "\n",
    "            valid_records += 1\n",
    "        except:\n",
    "            invalid_records += 1\n",
    "            continue\n",
    "\n",
    "    write_csv(records)\n",
    "\n",
    "    print()\n",
    "\n",
    "    print(f\"Valid Records: {valid_records}\\tInvalid Records: {invalid_records}\")"
   ]
  },
  {
   "cell_type": "code",
   "execution_count": null,
   "metadata": {},
   "outputs": [],
   "source": [
    "def balance_data():\n",
    "    selected = set()\n",
    "    df = pd.read_csv(f\"{src_dir}clean.csv\", header=0)\n",
    "    made_shots = df[df[\"shot_made\"] == 1].to_numpy()\n",
    "    missed_shots = df[df[\"shot_made\"] == 0].to_numpy()\n",
    "\n",
    "\n",
    "    n_df = made_shots.copy()\n",
    "\n",
    "    print(n_df.shape)\n",
    "\n",
    "    for i in range(len(made_shots)):\n",
    "        idx = 0\n",
    "        \n",
    "        while True:\n",
    "            idx = random.randrange(len(missed_shots))\n",
    "            \n",
    "            if idx not in selected:\n",
    "                selected.add(idx)\n",
    "                break\n",
    "\n",
    "        vals = np.expand_dims(missed_shots[idx], 0)\n",
    "        n_df = np.append(n_df, vals, axis=0)\n",
    "\n",
    "    n_df = pd.DataFrame.from_records(n_df)\n",
    "    n_df.to_csv(f\"{src_dir}clean_2.csv\", index=False)\n",
    "\n",
    "    print(n_df.shape)\n",
    "\n",
    "    print(selected)"
   ]
  },
  {
   "cell_type": "code",
   "execution_count": null,
   "metadata": {},
   "outputs": [],
   "source": [
    "preprocess_batch()"
   ]
  },
  {
   "cell_type": "code",
   "execution_count": null,
   "metadata": {},
   "outputs": [],
   "source": [
    "# preview_frames(FPS, \"/home/tyler/Downloads/NumaGuard-main/data/videos/4021_20240402_160547_748042.mp4\")"
   ]
  },
  {
   "cell_type": "code",
   "execution_count": null,
   "metadata": {},
   "outputs": [],
   "source": [
    "# balance_data()"
   ]
  }
 ],
 "metadata": {
  "kernelspec": {
   "display_name": "pytorch",
   "language": "python",
   "name": "python3"
  },
  "language_info": {
   "codemirror_mode": {
    "name": "ipython",
    "version": 3
   },
   "file_extension": ".py",
   "mimetype": "text/x-python",
   "name": "python",
   "nbconvert_exporter": "python",
   "pygments_lexer": "ipython3",
   "version": "3.8.18"
  },
  "orig_nbformat": 4
 },
 "nbformat": 4,
 "nbformat_minor": 2
}
